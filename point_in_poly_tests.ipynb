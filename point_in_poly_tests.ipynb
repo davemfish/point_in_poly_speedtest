{
 "cells": [
  {
   "cell_type": "code",
   "execution_count": 1,
   "metadata": {},
   "outputs": [],
   "source": [
    "import fiona\n",
    "from shapely.geometry import Point, MultiPoint, Polygon, MultiPolygon, shape\n",
    "from shapely.prepared import prep\n",
    "import numpy as np"
   ]
  },
  {
   "cell_type": "code",
   "execution_count": 2,
   "metadata": {},
   "outputs": [
    {
     "name": "stdout",
     "output_type": "stream",
     "text": [
      "1.6.1\n"
     ]
    }
   ],
   "source": [
    "import shapely\n",
    "print(shapely.__version__)"
   ]
  },
  {
   "cell_type": "code",
   "execution_count": 3,
   "metadata": {},
   "outputs": [],
   "source": [
    "def pip(x,y,poly):\n",
    "    n = len(poly)\n",
    "    inside = False\n",
    "    p1x,p1y = poly[0]\n",
    "    for i in range(n+1):\n",
    "        p2x,p2y = poly[i % n]\n",
    "        if y > min(p1y,p2y):\n",
    "            if y <= max(p1y,p2y):\n",
    "                if x <= max(p1x,p2x):\n",
    "                    if p1y != p2y:\n",
    "                        xints = (y-p1y)*(p2x-p1x)/(p2y-p1y)+p1x\n",
    "                    if p1x == p2x or x <= xints:\n",
    "                        inside = not inside\n",
    "        p1x,p1y = p2x,p2y\n",
    "    return inside"
   ]
  },
  {
   "cell_type": "code",
   "execution_count": 4,
   "metadata": {},
   "outputs": [],
   "source": [
    "def in_bbox(x,y,box):\n",
    "    inside = False\n",
    "    if (box[0] < x < box[2] and\n",
    "                box[1] < y < box[3]):\n",
    "        inside = not inside\n",
    "    return inside"
   ]
  },
  {
   "cell_type": "code",
   "execution_count": 5,
   "metadata": {},
   "outputs": [],
   "source": [
    "p1 = Point(-123.93, 45.0) # should be in aoi_poly\n",
    "p2 = Point(-135.0, 45.0) # outside aoi_poly, inside aoi_hull and aoi_box\n",
    "p3 = Point(-125.0, -45.0) # outside all"
   ]
  },
  {
   "cell_type": "code",
   "execution_count": 6,
   "metadata": {},
   "outputs": [],
   "source": [
    "aoi_hull = fiona.open(\"/home/dmf/Recdev/data/TPL/data/closings_2hrdrives_wgs84/closings_2hrdrives_wgs84_hull.shp\")\n",
    "aoi_poly = fiona.open(\"/home/dmf/Recdev/data/TPL/data/closings_2hrdrives_wgs84/closings_2hrdrives_wgs84.shp\")"
   ]
  },
  {
   "cell_type": "code",
   "execution_count": 7,
   "metadata": {},
   "outputs": [
    {
     "name": "stdout",
     "output_type": "stream",
     "text": [
      "1\n",
      "5008\n"
     ]
    }
   ],
   "source": [
    "print(len(aoi_hull))\n",
    "print(len(aoi_poly))"
   ]
  },
  {
   "cell_type": "code",
   "execution_count": 8,
   "metadata": {},
   "outputs": [],
   "source": [
    "mpoly = MultiPolygon([shape(pol['geometry']) for pol in aoi_poly]).buffer(0)\n",
    "poly = Polygon(shape(next(iter(aoi_hull))['geometry']))\n",
    "prepared_mpoly = prep(mpoly)\n",
    "prepared_poly = prep(poly)"
   ]
  },
  {
   "cell_type": "code",
   "execution_count": 9,
   "metadata": {},
   "outputs": [
    {
     "data": {
      "text/plain": [
       "shapely.prepared.PreparedGeometry"
      ]
     },
     "execution_count": 9,
     "metadata": {},
     "output_type": "execute_result"
    }
   ],
   "source": [
    "type(prepared_mpoly)"
   ]
  },
  {
   "cell_type": "code",
   "execution_count": 10,
   "metadata": {},
   "outputs": [
    {
     "name": "stdout",
     "output_type": "stream",
     "text": [
      "True\n",
      "True\n",
      "True\n",
      "True\n"
     ]
    }
   ],
   "source": [
    "print(p1.within(mpoly))\n",
    "print(p1.within(poly))\n",
    "print(mpoly.contains(p1))\n",
    "print(poly.contains(p1))"
   ]
  },
  {
   "cell_type": "code",
   "execution_count": 11,
   "metadata": {},
   "outputs": [
    {
     "name": "stdout",
     "output_type": "stream",
     "text": [
      "False\n",
      "True\n"
     ]
    }
   ],
   "source": [
    "print(p2.within(mpoly))\n",
    "print(p2.within(poly))"
   ]
  },
  {
   "cell_type": "code",
   "execution_count": 12,
   "metadata": {},
   "outputs": [
    {
     "name": "stdout",
     "output_type": "stream",
     "text": [
      "False\n",
      "False\n"
     ]
    }
   ],
   "source": [
    "print(p3.within(mpoly))\n",
    "print(p3.within(poly))"
   ]
  },
  {
   "cell_type": "markdown",
   "metadata": {},
   "source": [
    "### shapely/GEOS `within()` is 10x faster than `pip()`"
   ]
  },
  {
   "cell_type": "code",
   "execution_count": 13,
   "metadata": {},
   "outputs": [
    {
     "data": {
      "text/plain": [
       "(-159.57747058641803,\n",
       " 17.766577350503802,\n",
       " -64.69942035868564,\n",
       " 63.53866339451838)"
      ]
     },
     "execution_count": 13,
     "metadata": {},
     "output_type": "execute_result"
    }
   ],
   "source": [
    "mpoly.bounds"
   ]
  },
  {
   "cell_type": "code",
   "execution_count": 14,
   "metadata": {},
   "outputs": [
    {
     "data": {
      "text/plain": [
       "(-163.15036736719728,\n",
       " 17.766577350503802,\n",
       " -64.69942035868564,\n",
       " 63.54827841774561)"
      ]
     },
     "execution_count": 14,
     "metadata": {},
     "output_type": "execute_result"
    }
   ],
   "source": [
    "poly.bounds"
   ]
  },
  {
   "cell_type": "code",
   "execution_count": 15,
   "metadata": {},
   "outputs": [],
   "source": [
    "xs = np.random.uniform(low=-180.0, high=-30.0, size=1000)\n",
    "ys = np.random.uniform(low=10.0, high=80.0, size=1000)"
   ]
  },
  {
   "cell_type": "code",
   "execution_count": 16,
   "metadata": {},
   "outputs": [
    {
     "name": "stdout",
     "output_type": "stream",
     "text": [
      "34.1 ms ± 970 µs per loop (mean ± std. dev. of 7 runs, 50 loops each)\n"
     ]
    }
   ],
   "source": [
    "%%timeit -n50\n",
    "# test on the single hull polygon\n",
    "for x, y in zip(xs, ys):\n",
    "    p = Point(x, y)\n",
    "    p.within(poly)"
   ]
  },
  {
   "cell_type": "code",
   "execution_count": 17,
   "metadata": {},
   "outputs": [
    {
     "name": "stdout",
     "output_type": "stream",
     "text": [
      "388 ms ± 17 ms per loop (mean ± std. dev. of 7 runs, 50 loops each)\n"
     ]
    }
   ],
   "source": [
    "%%timeit -n50\n",
    "# test on the single hull polygon\n",
    "for x, y in zip(xs, ys):\n",
    "    pip(x,y, poly.exterior.coords)"
   ]
  },
  {
   "cell_type": "code",
   "execution_count": 18,
   "metadata": {},
   "outputs": [],
   "source": [
    "test = []\n",
    "# test on the single hull polygon\n",
    "for x, y in zip(xs, ys):\n",
    "    p = Point(x, y)\n",
    "    answer = p.within(poly)\n",
    "    test.append(answer)"
   ]
  },
  {
   "cell_type": "code",
   "execution_count": 19,
   "metadata": {},
   "outputs": [],
   "source": [
    "test2 = []\n",
    "# test on the single hull polygon\n",
    "for x, y in zip(xs, ys):\n",
    "#     p = Point(x, y)\n",
    "    answer = pip(x,y, poly.exterior.coords)\n",
    "    test2.append(answer)"
   ]
  },
  {
   "cell_type": "code",
   "execution_count": 20,
   "metadata": {},
   "outputs": [
    {
     "data": {
      "text/plain": [
       "True"
      ]
     },
     "execution_count": 20,
     "metadata": {},
     "output_type": "execute_result"
    }
   ],
   "source": [
    "test == test2"
   ]
  },
  {
   "cell_type": "code",
   "execution_count": 21,
   "metadata": {},
   "outputs": [
    {
     "data": {
      "text/plain": [
       "346"
      ]
     },
     "execution_count": 21,
     "metadata": {},
     "output_type": "execute_result"
    }
   ],
   "source": [
    "np.sum(test)"
   ]
  },
  {
   "cell_type": "markdown",
   "metadata": {},
   "source": [
    "### adding a simple bbox check first is a 30% improvement for the hull"
   ]
  },
  {
   "cell_type": "code",
   "execution_count": 22,
   "metadata": {},
   "outputs": [],
   "source": [
    "aoibox = poly.bounds"
   ]
  },
  {
   "cell_type": "code",
   "execution_count": 23,
   "metadata": {},
   "outputs": [
    {
     "name": "stdout",
     "output_type": "stream",
     "text": [
      "22.6 ms ± 134 µs per loop (mean ± std. dev. of 7 runs, 100 loops each)\n"
     ]
    }
   ],
   "source": [
    "%%timeit -n100\n",
    "for x, y in zip(xs, ys):\n",
    "    if in_bbox(x, y, aoibox):\n",
    "        p = Point(x, y)\n",
    "        p.within(poly)"
   ]
  },
  {
   "cell_type": "code",
   "execution_count": 24,
   "metadata": {},
   "outputs": [
    {
     "name": "stdout",
     "output_type": "stream",
     "text": [
      "33.1 ms ± 182 µs per loop (mean ± std. dev. of 7 runs, 100 loops each)\n"
     ]
    }
   ],
   "source": [
    "%%timeit -n100\n",
    "# test on the single hull polygon\n",
    "for x, y in zip(xs, ys):\n",
    "    p = Point(x, y)\n",
    "    p.within(poly)"
   ]
  },
  {
   "cell_type": "markdown",
   "metadata": {},
   "source": [
    "### testing on a collection of polygons, definitely prep geometry first, and still do bbox check first"
   ]
  },
  {
   "cell_type": "code",
   "execution_count": 25,
   "metadata": {},
   "outputs": [],
   "source": [
    "# https://toblerity.org/shapely/manual.html#predicates-and-relationships\n",
    "# a.contains(b) == b.within(a) always evaluates to True."
   ]
  },
  {
   "cell_type": "code",
   "execution_count": 26,
   "metadata": {},
   "outputs": [],
   "source": [
    "## too slow to wait for\n",
    "# %%timeit -n10\n",
    "# for x, y in zip(xs, ys):\n",
    "#     p = Point(x, y)\n",
    "#     p.within(mpoly)"
   ]
  },
  {
   "cell_type": "code",
   "execution_count": 27,
   "metadata": {},
   "outputs": [],
   "source": [
    "## still too slow to wait for\n",
    "# %%timeit -n10\n",
    "# for x, y in zip(xs, ys):\n",
    "#     if (aoibox[0] < x < aoibox[2] and aoibox[1] < y < aoibox[3]):\n",
    "#         p = Point(x, y)\n",
    "#         mpoly.contains(p)"
   ]
  },
  {
   "cell_type": "code",
   "execution_count": 28,
   "metadata": {},
   "outputs": [
    {
     "name": "stdout",
     "output_type": "stream",
     "text": [
      "11.1 ms ± 608 µs per loop (mean ± std. dev. of 7 runs, 100 loops each)\n"
     ]
    }
   ],
   "source": [
    "%%timeit -n100\n",
    "for x, y in zip(xs, ys):\n",
    "    if in_bbox(x, y, aoibox):\n",
    "        p = Point(x, y)\n",
    "        prepared_mpoly.contains(p)"
   ]
  },
  {
   "cell_type": "code",
   "execution_count": 29,
   "metadata": {},
   "outputs": [
    {
     "name": "stdout",
     "output_type": "stream",
     "text": [
      "21.2 ms ± 261 µs per loop (mean ± std. dev. of 7 runs, 100 loops each)\n"
     ]
    }
   ],
   "source": [
    "%%timeit -n100\n",
    "for x, y in zip(xs, ys):\n",
    "    p = Point(x, y)\n",
    "    prepared_mpoly.contains(p)"
   ]
  },
  {
   "cell_type": "markdown",
   "metadata": {},
   "source": [
    "### What about collecting a set of points first, testing all at once?\n",
    "not as good if it means no bbox check before collecting points  \n",
    "best yet if bbox check first, collecting only points inside  \n",
    "but kind of a pain because of need to keep track of tweet metadata - username, date  \n",
    "also, will require varying amounts of memory based on how many pts end up in collection"
   ]
  },
  {
   "cell_type": "code",
   "execution_count": 30,
   "metadata": {},
   "outputs": [
    {
     "name": "stdout",
     "output_type": "stream",
     "text": [
      "15.2 ms ± 154 µs per loop (mean ± std. dev. of 7 runs, 100 loops each)\n"
     ]
    }
   ],
   "source": [
    "%%timeit -n100\n",
    "mpts = MultiPoint([Point(x, y) for x,y in zip(xs, ys)])\n",
    "prepared_mpoly.contains(mpts)"
   ]
  },
  {
   "cell_type": "code",
   "execution_count": 31,
   "metadata": {},
   "outputs": [
    {
     "name": "stdout",
     "output_type": "stream",
     "text": [
      "7.42 ms ± 83.7 µs per loop (mean ± std. dev. of 7 runs, 100 loops each)\n"
     ]
    }
   ],
   "source": [
    "%%timeit -n100\n",
    "mpts = MultiPoint([Point(x, y) for x,y in zip(xs, ys) if in_bbox(x, y, aoibox)])\n",
    "prepared_mpoly.contains(mpts)"
   ]
  },
  {
   "cell_type": "code",
   "execution_count": 32,
   "metadata": {},
   "outputs": [],
   "source": [
    "### does last option work well in flow of twitter parser?\n",
    "# load and prep a collection of polygons (AOI)\n",
    "# loop through json lines to extract lon/lat from tweets:\n",
    "    # check against bbox: \n",
    "        # collect points that pass, store in memory\n",
    "        # but also need to store username, date\n",
    "# check point collection against AOI:\n",
    "    # write username, date, lon, lat%%timeit -n100"
   ]
  },
  {
   "cell_type": "markdown",
   "metadata": {},
   "source": [
    "### Winning solution"
   ]
  },
  {
   "cell_type": "code",
   "execution_count": 33,
   "metadata": {},
   "outputs": [
    {
     "name": "stdout",
     "output_type": "stream",
     "text": [
      "10.8 ms ± 117 µs per loop (mean ± std. dev. of 7 runs, 50 loops each)\n"
     ]
    }
   ],
   "source": [
    "%%timeit -n50\n",
    "inside = False\n",
    "for x, y in zip(xs, ys):\n",
    "    if in_bbox(x, y, aoibox):\n",
    "        p = Point(x, y)\n",
    "        if prepared_mpoly.contains(p):\n",
    "            inside = not inside"
   ]
  },
  {
   "cell_type": "code",
   "execution_count": null,
   "metadata": {},
   "outputs": [],
   "source": []
  }
 ],
 "metadata": {
  "kernelspec": {
   "display_name": "Python [conda env:geowork]",
   "language": "python",
   "name": "conda-env-geowork-py"
  },
  "language_info": {
   "codemirror_mode": {
    "name": "ipython",
    "version": 3
   },
   "file_extension": ".py",
   "mimetype": "text/x-python",
   "name": "python",
   "nbconvert_exporter": "python",
   "pygments_lexer": "ipython3",
   "version": "3.6.2"
  }
 },
 "nbformat": 4,
 "nbformat_minor": 2
}
